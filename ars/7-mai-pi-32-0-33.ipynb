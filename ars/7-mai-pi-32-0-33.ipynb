{
 "cells": [
  {
   "cell_type": "code",
   "execution_count": 1,
   "metadata": {},
   "outputs": [
    {
     "data": {
      "text/html": [
       "<html><script type=\"math/tex; mode=display\">\\newcommand{\\Bold}[1]{\\mathbf{#1}}\\left(y, c, f\\right)</script></html>"
      ],
      "text/plain": [
       "(y, c, f)"
      ]
     },
     "execution_count": 1,
     "metadata": {},
     "output_type": "execute_result"
    }
   ],
   "source": [
    "%display latex\n",
    "var(\"y c f\")"
   ]
  },
  {
   "cell_type": "code",
   "execution_count": 2,
   "metadata": {},
   "outputs": [
    {
     "data": {
      "text/html": [
       "<html><script type=\"math/tex; mode=display\">\\newcommand{\\Bold}[1]{\\mathbf{#1}}\\frac{c}{f}</script></html>"
      ],
      "text/plain": [
       "c/f"
      ]
     },
     "execution_count": 2,
     "metadata": {},
     "output_type": "execute_result"
    }
   ],
   "source": [
    "y=c/f;y"
   ]
  },
  {
   "cell_type": "code",
   "execution_count": 3,
   "metadata": {},
   "outputs": [],
   "source": [
    "c=299792458.0;v=314159265.3"
   ]
  },
  {
   "cell_type": "code",
   "execution_count": 4,
   "metadata": {},
   "outputs": [
    {
     "data": {
      "text/html": [
       "<html><script type=\"math/tex; mode=display\">\\newcommand{\\Bold}[1]{\\mathbf{#1}}1.02368086373591</script></html>"
      ],
      "text/plain": [
       "1.02368086373591"
      ]
     },
     "execution_count": 4,
     "metadata": {},
     "output_type": "execute_result"
    }
   ],
   "source": [
    "sqrt(v/c)"
   ]
  },
  {
   "cell_type": "code",
   "execution_count": 5,
   "metadata": {},
   "outputs": [
    {
     "data": {
      "text/html": [
       "<html><script type=\"math/tex; mode=display\">\\newcommand{\\Bold}[1]{\\mathbf{#1}}6.45030689148374 \\times 10^{-34}</script></html>"
      ],
      "text/plain": [
       "6.45030689148374e-34"
      ]
     },
     "execution_count": 5,
     "metadata": {},
     "output_type": "execute_result"
    }
   ],
   "source": [
    "h=1/(v^4)*2*n(pi);h"
   ]
  },
  {
   "cell_type": "code",
   "execution_count": 6,
   "metadata": {},
   "outputs": [
    {
     "data": {
      "text/html": [
       "<html><script type=\"math/tex; mode=display\">\\newcommand{\\Bold}[1]{\\mathbf{#1}}1.23799014723612 \\times 10^{-34}</script></html>"
      ],
      "text/plain": [
       "1.23799014723612e-34"
      ]
     },
     "execution_count": 6,
     "metadata": {},
     "output_type": "execute_result"
    }
   ],
   "source": [
    "hb=1/c^4;hb"
   ]
  },
  {
   "cell_type": "markdown",
   "metadata": {},
   "source": [
    "La couleur est la fréquence de résonnance entre la capacité et l'inductance. Dans un prisme la lumière monochrome est déviée, la déviation est une impédance du milieu. La déviation (réfraction), freine la vitesse de lumière.\n",
    "\n",
    "$\\pi$, centre zéro (32 ième décimale)."
   ]
  },
  {
   "cell_type": "code",
   "execution_count": 7,
   "metadata": {},
   "outputs": [
    {
     "data": {
      "text/html": [
       "<html><script type=\"math/tex; mode=display\">\\newcommand{\\Bold}[1]{\\mathbf{#1}}3.14159265358979323846264338327950</script></html>"
      ],
      "text/plain": [
       "3.14159265358979323846264338327950"
      ]
     },
     "execution_count": 7,
     "metadata": {},
     "output_type": "execute_result"
    }
   ],
   "source": [
    "from tabulate import tabulate\n",
    "3.14159265358979323846264338327950\n",
    "n(pi,digits=33)"
   ]
  },
  {
   "cell_type": "code",
   "execution_count": 10,
   "metadata": {},
   "outputs": [
    {
     "name": "stdout",
     "output_type": "stream",
     "text": [
      "╒════╤════╤════╤════╤════╤════╤════╤════╕\n",
      "│  1 │  2 │  3 │  4 │  5 │  6 │  7 │  8 │\n",
      "├────┼────┼────┼────┼────┼────┼────┼────┤\n",
      "│  3 │  1 │  4 │  1 │  5 │  9 │  2 │  6 │\n",
      "├────┼────┼────┼────┼────┼────┼────┼────┤\n",
      "│  9 │ 10 │ 11 │ 12 │ 13 │ 14 │ 15 │ 16 │\n",
      "├────┼────┼────┼────┼────┼────┼────┼────┤\n",
      "│  5 │  3 │  5 │  8 │  9 │  7 │  9 │  3 │\n",
      "├────┼────┼────┼────┼────┼────┼────┼────┤\n",
      "│ 17 │ 18 │ 19 │ 20 │ 21 │ 22 │ 22 │ 24 │\n",
      "├────┼────┼────┼────┼────┼────┼────┼────┤\n",
      "│  2 │  3 │  8 │  4 │  6 │  2 │  6 │  4 │\n",
      "├────┼────┼────┼────┼────┼────┼────┼────┤\n",
      "│ 25 │ 26 │ 27 │ 28 │ 29 │ 30 │ 31 │ 32 │\n",
      "├────┼────┼────┼────┼────┼────┼────┼────┤\n",
      "│  3 │  3 │  8 │  3 │  2 │  7 │  9 │  5 │\n",
      "╘════╧════╧════╧════╧════╧════╧════╧════╛\n"
     ]
    }
   ],
   "source": [
    "pit=[[1,2,3,4,5,6,7,8],\n",
    "     [3,1,4,1,5,9,2,6],\n",
    "     [9,10,11,12,13,14,15,16],\n",
    "     [5,3,5,8,9,7,9,3],\n",
    "     [17,18,19,20,21,22,22,24],\n",
    "     [2,3,8,4,6,2,6,4],\n",
    "     [25,26,27,28,29,30,31,32],\n",
    "     [3,3,8,3,2,7,9,5]]\n",
    "print tabulate(pit,tablefmt=\"fancy_grid\")"
   ]
  },
  {
   "cell_type": "markdown",
   "metadata": {},
   "source": [
    "$\\pi$ est un nombre incommensurable, ce n'est pas la peine de mettre une virgule... Les civilisations qui n'avaient pas le zéro (sytème décimale) le calculait sans problème. Le 33 ième chiffre étant un zéro, le rapport s'écrit $\\frac {0}{0....0}$"
   ]
  },
  {
   "cell_type": "code",
   "execution_count": 27,
   "metadata": {},
   "outputs": [
    {
     "data": {
      "text/latex": [
       "$3+\\frac{1}{10}+\\frac{4}{100}+\\frac{1}{1000}\n",
       "+...+\\frac{0}{1000000000000000000000000000000000}$"
      ],
      "text/plain": [
       "<IPython.core.display.Latex object>"
      ]
     },
     "metadata": {},
     "output_type": "display_data"
    }
   ],
   "source": [
    "%%latex\n",
    "$3+\\frac{1}{10}+\\frac{4}{100}+\\frac{1}{1000}\n",
    "+...+\\frac{0}{1000000000000000000000000000000000}$"
   ]
  },
  {
   "cell_type": "markdown",
   "metadata": {},
   "source": [
    "Calculez l'énergie d'une mole de photons de longueur d'onde égale à\n",
    "\n",
    "    10-8 m (rayons X mous),\n",
    "    0,58 µm (visible),\n",
    "    et d'une fréquence radio de 3 m.\n",
    "\n",
    "CORRIGÉ\n",
    "\n",
    "a-Pour un photon X de longueur d'onde égale à 10-8 m, l'énergie est donnée par la relation\n",
    "\n",
    "E    = h n    =    h c/l.\n",
    "\n",
    "E    =    (6,626 10-34 J s) (2,998 108 m s-1) / (10-8 m)   =   19,865 10-18 J\n",
    "\n",
    "Pour une mole de photons, on obtient : E = (19,865 10-18 J ) (6,022 1023 mol-1) = 1,196 107 J mol-1\n",
    "\n",
    "Note : Puisque l'on demande l'énergie contenue dans une mole, la réponse en toute logique s'exprime simplement en joules. Autrement dit, à la limite, la réponse exprimée en joule/mole constitue ce que l'on appelle en littérature un pléonasme.\n",
    "\n",
    "b-   Pour une mole de photons de longueur d'onde égale à 0,58 µm :\n",
    "\n",
    "E    =   (6,022 1023 mol-1) (6,626 10-34 J s) (2,998 108 m s-1) / (0,58 10-6 m)   =   2,123 J mol-1\n",
    "\n",
    "E   =   2,123 105 J mol-1\n",
    "c-   Pour la fréquence radio de 3 m, on obtient (On note ici une dérive de langage puisque la grandeur \"3 m\" correspond à une longueur d'onde) :\n",
    "\n",
    "E   =   (6,022 1023 mol-1) (6,626 10-34 J s) (2,998 108 m s-1) / (3 m)   =   3,988 10-2 J mol-1\n",
    "\n",
    "E   =   3,988 10-2 J mol-1\n",
    "\n",
    "         \n"
   ]
  },
  {
   "cell_type": "code",
   "execution_count": 59,
   "metadata": {},
   "outputs": [
    {
     "data": {
      "text/html": [
       "<html><script type=\"math/tex; mode=display\">\\newcommand{\\Bold}[1]{\\mathbf{#1}}1.98642482670800 \\times 10^{-18}</script></html>"
      ],
      "text/plain": [
       "1.98642482670800e-18"
      ]
     },
     "execution_count": 59,
     "metadata": {},
     "output_type": "execute_result"
    }
   ],
   "source": [
    "h=6.626E-34;c=299792458;l=10E-8;mo=6.022E23\n",
    "E=h*c/l;E"
   ]
  },
  {
   "cell_type": "code",
   "execution_count": 60,
   "metadata": {},
   "outputs": [
    {
     "data": {
      "text/html": [
       "<html><script type=\"math/tex; mode=display\">\\newcommand{\\Bold}[1]{\\mathbf{#1}}1.19622503064356 \\times 10^{6}</script></html>"
      ],
      "text/plain": [
       "1.19622503064356e6"
      ]
     },
     "execution_count": 60,
     "metadata": {},
     "output_type": "execute_result"
    }
   ],
   "source": [
    "lo=0.58E-6\n",
    "Jmo=E*mo;Jmo"
   ]
  },
  {
   "cell_type": "code",
   "execution_count": 61,
   "metadata": {},
   "outputs": [
    {
     "data": {
      "text/html": [
       "<html><script type=\"math/tex; mode=display\">\\newcommand{\\Bold}[1]{\\mathbf{#1}}206245.694938544</script></html>"
      ],
      "text/plain": [
       "206245.694938544"
      ]
     },
     "execution_count": 61,
     "metadata": {},
     "output_type": "execute_result"
    }
   ],
   "source": [
    "lm=3\n",
    "E=mo*h*c/lo;E"
   ]
  },
  {
   "cell_type": "code",
   "execution_count": 62,
   "metadata": {},
   "outputs": [
    {
     "data": {
      "text/html": [
       "<html><script type=\"math/tex; mode=display\">\\newcommand{\\Bold}[1]{\\mathbf{#1}}0.0398741676881186</script></html>"
      ],
      "text/plain": [
       "0.0398741676881186"
      ]
     },
     "execution_count": 62,
     "metadata": {},
     "output_type": "execute_result"
    }
   ],
   "source": [
    "E=mo*h*c/lm;E"
   ]
  },
  {
   "cell_type": "code",
   "execution_count": 65,
   "metadata": {},
   "outputs": [
    {
     "data": {
      "text/html": [
       "<html><script type=\"math/tex; mode=display\">\\newcommand{\\Bold}[1]{\\mathbf{#1}}4.16666666666667 \\times 10^{-15}</script></html>"
      ],
      "text/plain": [
       "4.16666666666667e-15"
      ]
     },
     "execution_count": 65,
     "metadata": {},
     "output_type": "execute_result"
    }
   ],
   "source": [
    "1.25/3E14"
   ]
  },
  {
   "cell_type": "code",
   "execution_count": 66,
   "metadata": {},
   "outputs": [
    {
     "data": {
      "text/html": [
       "<html><script type=\"math/tex; mode=display\">\\newcommand{\\Bold}[1]{\\mathbf{#1}}4.14125000000000 \\times 10^{-15}</script></html>"
      ],
      "text/plain": [
       "4.14125000000000e-15"
      ]
     },
     "execution_count": 66,
     "metadata": {},
     "output_type": "execute_result"
    }
   ],
   "source": [
    "h/1.6E-19"
   ]
  },
  {
   "cell_type": "code",
   "execution_count": null,
   "metadata": {},
   "outputs": [],
   "source": []
  }
 ],
 "metadata": {
  "kernelspec": {
   "display_name": "SageMath 8.2",
   "language": "",
   "name": "sagemath"
  },
  "language_info": {
   "codemirror_mode": {
    "name": "ipython",
    "version": 2
   },
   "file_extension": ".py",
   "mimetype": "text/x-python",
   "name": "python",
   "nbconvert_exporter": "python",
   "pygments_lexer": "ipython2",
   "version": "2.7.14"
  }
 },
 "nbformat": 4,
 "nbformat_minor": 2
}
