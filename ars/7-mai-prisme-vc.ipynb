{
 "cells": [
  {
   "cell_type": "code",
   "execution_count": 1,
   "metadata": {},
   "outputs": [
    {
     "data": {
      "text/html": [
       "<html><script type=\"math/tex; mode=display\">\\newcommand{\\Bold}[1]{\\mathbf{#1}}\\left(y, c, f\\right)</script></html>"
      ],
      "text/plain": [
       "(y, c, f)"
      ]
     },
     "execution_count": 1,
     "metadata": {},
     "output_type": "execute_result"
    }
   ],
   "source": [
    "%display latex\n",
    "var(\"y c f\")"
   ]
  },
  {
   "cell_type": "code",
   "execution_count": 3,
   "metadata": {},
   "outputs": [
    {
     "data": {
      "text/html": [
       "<html><script type=\"math/tex; mode=display\">\\newcommand{\\Bold}[1]{\\mathbf{#1}}\\frac{c}{f}</script></html>"
      ],
      "text/plain": [
       "c/f"
      ]
     },
     "execution_count": 3,
     "metadata": {},
     "output_type": "execute_result"
    }
   ],
   "source": [
    "y=c/f;y"
   ]
  },
  {
   "cell_type": "code",
   "execution_count": 4,
   "metadata": {},
   "outputs": [],
   "source": [
    "c=299792458.0;v=314159265.3"
   ]
  },
  {
   "cell_type": "code",
   "execution_count": 7,
   "metadata": {},
   "outputs": [
    {
     "data": {
      "text/html": [
       "<html><script type=\"math/tex; mode=display\">\\newcommand{\\Bold}[1]{\\mathbf{#1}}1.02368086373591</script></html>"
      ],
      "text/plain": [
       "1.02368086373591"
      ]
     },
     "execution_count": 7,
     "metadata": {},
     "output_type": "execute_result"
    }
   ],
   "source": [
    "sqrt(v/c)"
   ]
  },
  {
   "cell_type": "code",
   "execution_count": 20,
   "metadata": {},
   "outputs": [
    {
     "data": {
      "text/html": [
       "<html><script type=\"math/tex; mode=display\">\\newcommand{\\Bold}[1]{\\mathbf{#1}}6.45030689148374 \\times 10^{-34}</script></html>"
      ],
      "text/plain": [
       "6.45030689148374e-34"
      ]
     },
     "execution_count": 20,
     "metadata": {},
     "output_type": "execute_result"
    }
   ],
   "source": [
    "h=1/(v^4)*2*n(pi);h"
   ]
  },
  {
   "cell_type": "code",
   "execution_count": 21,
   "metadata": {},
   "outputs": [
    {
     "data": {
      "text/html": [
       "<html><script type=\"math/tex; mode=display\">\\newcommand{\\Bold}[1]{\\mathbf{#1}}1.23799014723612 \\times 10^{-34}</script></html>"
      ],
      "text/plain": [
       "1.23799014723612e-34"
      ]
     },
     "execution_count": 21,
     "metadata": {},
     "output_type": "execute_result"
    }
   ],
   "source": [
    "hb=1/c^4;hb"
   ]
  },
  {
   "cell_type": "markdown",
   "metadata": {},
   "source": [
    "La couleur est la fréquence de résonnance entre la capacité et l'inductance. Dans un prisme la lumière monochrome est déviée, la déviation est une impédance du milieu. La déviation (réfraction), freine la vitesse de lumière.\n",
    "\n",
    "$\\pi$, centre zéro (32 ième décimale)."
   ]
  },
  {
   "cell_type": "code",
   "execution_count": 25,
   "metadata": {},
   "outputs": [
    {
     "data": {
      "text/html": [
       "<html><script type=\"math/tex; mode=display\">\\newcommand{\\Bold}[1]{\\mathbf{#1}}3.14159265358979323846264338327950</script></html>"
      ],
      "text/plain": [
       "3.14159265358979323846264338327950"
      ]
     },
     "execution_count": 25,
     "metadata": {},
     "output_type": "execute_result"
    }
   ],
   "source": [
    "from tabulate import tabulate\n",
    "3.14159265358979323846264338327950\n",
    "n(pi,digits=33)"
   ]
  },
  {
   "cell_type": "code",
   "execution_count": 38,
   "metadata": {},
   "outputs": [
    {
     "name": "stdout",
     "output_type": "stream",
     "text": [
      "╒════╤════╤════╤════╤════╤════╤════╤════╕\n",
      "│  1 │  2 │  3 │  4 │  5 │  6 │  7 │  8 │\n",
      "├────┼────┼────┼────┼────┼────┼────┼────┤\n",
      "│  3 │  1 │  4 │  1 │  5 │  9 │  2 │  6 │\n",
      "├────┼────┼────┼────┼────┼────┼────┼────┤\n",
      "│  9 │ 10 │ 11 │ 12 │ 13 │ 14 │ 15 │ 16 │\n",
      "├────┼────┼────┼────┼────┼────┼────┼────┤\n",
      "│  5 │  3 │  5 │  8 │  9 │  7 │  9 │  3 │\n",
      "├────┼────┼────┼────┼────┼────┼────┼────┤\n",
      "│ 17 │ 18 │ 19 │ 20 │ 21 │ 22 │ 22 │ 24 │\n",
      "├────┼────┼────┼────┼────┼────┼────┼────┤\n",
      "│  2 │  3 │  8 │  4 │  6 │  2 │  6 │  4 │\n",
      "├────┼────┼────┼────┼────┼────┼────┼────┤\n",
      "│ 25 │ 26 │ 27 │ 28 │ 29 │ 30 │ 31 │ 32 │\n",
      "├────┼────┼────┼────┼────┼────┼────┼────┤\n",
      "│  3 │  3 │  8 │  3 │  2 │  7 │  9 │  5 │\n",
      "╘════╧════╧════╧════╧════╧════╧════╧════╛\n"
     ]
    }
   ],
   "source": [
    "pit=[[1,2,3,4,5,6,7,8],\n",
    "     [3,1,4,1,5,9,2,6],\n",
    "     [9,10,11,12,13,14,15,16],\n",
    "     [5,3,5,8,9,7,9,3],\n",
    "     [17,18,19,20,21,22,22,24],\n",
    "     [2,3,8,4,6,2,6,4],\n",
    "     [25,26,27,28,29,30,31,32],\n",
    "     [3,3,8,3,2,7,9,5]]\n",
    "print tabulate(pit,tablefmt=\"fancy_grid\")"
   ]
  },
  {
   "cell_type": "code",
   "execution_count": 36,
   "metadata": {},
   "outputs": [
    {
     "data": {
      "text/html": [
       "<html><script type=\"math/tex; mode=display\">\\newcommand{\\Bold}[1]{\\mathbf{#1}}3.1415926535897932384626433832795</script></html>"
      ],
      "text/plain": [
       "3.1415926535897932384626433832795"
      ]
     },
     "execution_count": 36,
     "metadata": {},
     "output_type": "execute_result"
    }
   ],
   "source": [
    "3.14159265358979323846264338327950"
   ]
  },
  {
   "cell_type": "code",
   "execution_count": null,
   "metadata": {},
   "outputs": [],
   "source": []
  }
 ],
 "metadata": {
  "kernelspec": {
   "display_name": "SageMath 8.2",
   "language": "",
   "name": "sagemath"
  },
  "language_info": {
   "codemirror_mode": {
    "name": "ipython",
    "version": 2
   },
   "file_extension": ".py",
   "mimetype": "text/x-python",
   "name": "python",
   "nbconvert_exporter": "python",
   "pygments_lexer": "ipython2",
   "version": "2.7.14"
  }
 },
 "nbformat": 4,
 "nbformat_minor": 2
}
