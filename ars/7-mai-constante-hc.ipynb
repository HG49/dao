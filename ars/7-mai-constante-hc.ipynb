{
 "cells": [
  {
   "cell_type": "code",
   "execution_count": 1,
   "metadata": {},
   "outputs": [
    {
     "data": {
      "text/latex": [
       "$\\frac {1}{\\sqrt LC}$"
      ],
      "text/plain": [
       "<IPython.core.display.Latex object>"
      ]
     },
     "metadata": {},
     "output_type": "display_data"
    }
   ],
   "source": [
    "%%latex\n",
    "$\\frac {1}{\\sqrt LC}$"
   ]
  },
  {
   "cell_type": "code",
   "execution_count": 2,
   "metadata": {},
   "outputs": [],
   "source": [
    "# text(unicode('an accent : é', encoding='utf-8'), (1,1), color='red')"
   ]
  },
  {
   "cell_type": "code",
   "execution_count": 3,
   "metadata": {},
   "outputs": [],
   "source": [
    "s = unicode('é', encoding='utf-8')"
   ]
  },
  {
   "cell_type": "code",
   "execution_count": 4,
   "metadata": {},
   "outputs": [
    {
     "data": {
      "text/plain": [
       "1.14591559026165e-6"
      ]
     },
     "execution_count": 4,
     "metadata": {},
     "output_type": "execute_result"
    }
   ],
   "source": [
    "u=1/n(pi)*360E-8;u"
   ]
  },
  {
   "cell_type": "code",
   "execution_count": 5,
   "metadata": {},
   "outputs": [
    {
     "data": {
      "text/plain": [
       "(872665, 934, 467)"
      ]
     },
     "execution_count": 5,
     "metadata": {},
     "output_type": "execute_result"
    }
   ],
   "source": [
    "round(1/u),round(sqrt(1/u)),round(sqrt(1/u)/2)"
   ]
  },
  {
   "cell_type": "code",
   "execution_count": 6,
   "metadata": {},
   "outputs": [
    {
     "data": {
      "text/plain": [
       "8.84194128288307e-12"
      ]
     },
     "execution_count": 6,
     "metadata": {},
     "output_type": "execute_result"
    }
   ],
   "source": [
    "s=1/(n(pi)*360E+8);s"
   ]
  },
  {
   "cell_type": "code",
   "execution_count": 7,
   "metadata": {},
   "outputs": [
    {
     "data": {
      "text/latex": [
       "$E=h\\nu$ = $\\hbar\\omega$ = $mc^2$"
      ],
      "text/plain": [
       "<IPython.core.display.Latex object>"
      ]
     },
     "metadata": {},
     "output_type": "display_data"
    }
   ],
   "source": [
    "%%latex\n",
    "$E=h\\nu$ = $\\hbar\\omega$ = $mc^2$"
   ]
  },
  {
   "cell_type": "code",
   "execution_count": 9,
   "metadata": {},
   "outputs": [
    {
     "data": {
      "text/plain": [
       "1.23799014723612e-34"
      ]
     },
     "execution_count": 9,
     "metadata": {},
     "output_type": "execute_result"
    }
   ],
   "source": [
    "c0=299792458.0;(1/c0^4)"
   ]
  },
  {
   "cell_type": "code",
   "execution_count": 20,
   "metadata": {},
   "outputs": [
    {
     "data": {
      "text/html": [
       "<html><script type=\"math/tex; mode=display\">\\newcommand{\\Bold}[1]{\\mathbf{#1}}\\verb|g=| \\frac{h}{p} \\phantom{\\verb!x!}\\verb|,|\\phantom{\\verb!x!}\\verb|p=| \\frac{E}{c} \\phantom{\\verb!x!}\\verb|,|\\phantom{\\verb!x!}\\verb|l=| \\frac{c}{\\nu} \\phantom{\\verb!x!}\\verb|,|\\phantom{\\verb!x!}\\verb|E=| h \\nu</script></html>"
      ],
      "text/plain": [
       "'g=' h/p ' , p=' E/c ' , l=' c/nu ' , E=' h*nu"
      ]
     },
     "metadata": {},
     "output_type": "display_data"
    }
   ],
   "source": [
    "%display latex\n",
    "var(\"h p E c g v nu\")\n",
    "g=h/p\n",
    "p=E/c\n",
    "l=c/nu\n",
    "E=h*nu\n",
    "show(\"g=\",g,\" , p=\",p,\" , l=\",l,\" , E=\",E)\n"
   ]
  },
  {
   "cell_type": "code",
   "execution_count": 21,
   "metadata": {},
   "outputs": [
    {
     "data": {
      "text/html": [
       "<html><script type=\"math/tex; mode=display\">\\newcommand{\\Bold}[1]{\\mathbf{#1}}\\verb|g=| \\frac{h}{p} \\phantom{\\verb!x!}\\verb|,|\\phantom{\\verb!x!}\\verb|p=| \\frac{E}{c} \\phantom{\\verb!x!}\\verb|,|\\phantom{\\verb!x!}\\verb|l=| \\frac{c}{\\nu} \\phantom{\\verb!x!}\\verb|,|\\phantom{\\verb!x!}\\verb|E=| h \\nu</script></html>"
      ],
      "text/plain": [
       "'g=' h/p ' , p=' E/c ' , l=' c/nu ' , E=' h*nu"
      ]
     },
     "metadata": {},
     "output_type": "display_data"
    }
   ],
   "source": [
    "var(\"h p E c g v nu\")\n",
    "g=h/p\n",
    "p=E/c\n",
    "l=c/nu\n",
    "E=h*nu\n",
    "show(\"g=\",g,\" , p=\",p,\" , l=\",l,\" , E=\",E)"
   ]
  },
  {
   "cell_type": "code",
   "execution_count": 37,
   "metadata": {},
   "outputs": [
    {
     "data": {
      "text/latex": [
       "$\\Delta t. \\Delta f \\ge \\frac {1}{4 \\pi} (\\frac{\\pi}{4}) $"
      ],
      "text/plain": [
       "<IPython.core.display.Latex object>"
      ]
     },
     "metadata": {},
     "output_type": "display_data"
    }
   ],
   "source": [
    "%%latex\n",
    "$\\Delta t. \\Delta f \\ge \\frac {1}{4 \\pi} (\\frac{\\pi}{4}) $"
   ]
  },
  {
   "cell_type": "code",
   "execution_count": 33,
   "metadata": {},
   "outputs": [
    {
     "data": {
      "text/html": [
       "<html><script type=\"math/tex; mode=display\">\\newcommand{\\Bold}[1]{\\mathbf{#1}}0.785398163397448</script></html>"
      ],
      "text/plain": [
       "0.785398163397448"
      ]
     },
     "execution_count": 33,
     "metadata": {},
     "output_type": "execute_result"
    }
   ],
   "source": [
    "1/4*n(pi)"
   ]
  },
  {
   "cell_type": "code",
   "execution_count": 36,
   "metadata": {},
   "outputs": [
    {
     "data": {
      "text/html": [
       "<html><script type=\"math/tex; mode=display\">\\newcommand{\\Bold}[1]{\\mathbf{#1}}0.785398163397448</script></html>"
      ],
      "text/plain": [
       "0.785398163397448"
      ]
     },
     "execution_count": 36,
     "metadata": {},
     "output_type": "execute_result"
    }
   ],
   "source": [
    "n(pi)/4"
   ]
  },
  {
   "cell_type": "code",
   "execution_count": 44,
   "metadata": {},
   "outputs": [
    {
     "data": {
      "text/latex": [
       "$\\lambda=\\frac{c}{f}=cT$"
      ],
      "text/plain": [
       "<IPython.core.display.Latex object>"
      ]
     },
     "metadata": {},
     "output_type": "display_data"
    }
   ],
   "source": [
    "%%latex\n",
    "$\\lambda=\\frac{c}{f}=cT$"
   ]
  },
  {
   "attachments": {
    "image.png": {
     "image/png": "[encoded data removed]"
    }
   },
   "cell_type": "markdown",
   "metadata": {},
   "source": [
    "![image.png](attachment:image.png)"
   ]
  },
  {
   "cell_type": "markdown",
   "metadata": {},
   "source": [
    "A quoi corresponde les raies ?\n",
    "\n",
    "\n",
    "Une raie est une brisure, soit zéro soit les décimales de $pi$"
   ]
  },
  {
   "cell_type": "code",
   "execution_count": null,
   "metadata": {},
   "outputs": [],
   "source": []
  }
 ],
 "metadata": {
  "kernelspec": {
   "display_name": "SageMath 8.2",
   "language": "",
   "name": "sagemath"
  },
  "language_info": {
   "codemirror_mode": {
    "name": "ipython",
    "version": 2
   },
   "file_extension": ".py",
   "mimetype": "text/x-python",
   "name": "python",
   "nbconvert_exporter": "python",
   "pygments_lexer": "ipython2",
   "version": "2.7.14"
  }
 },
 "nbformat": 4,
 "nbformat_minor": 2
}
