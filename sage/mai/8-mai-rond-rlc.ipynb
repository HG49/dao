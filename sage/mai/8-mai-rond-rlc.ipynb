{
 "cells": [
  {
   "cell_type": "code",
   "execution_count": 1,
   "metadata": {},
   "outputs": [],
   "source": [
    "%display latex"
   ]
  },
  {
   "cell_type": "code",
   "execution_count": 2,
   "metadata": {},
   "outputs": [],
   "source": [
    "var('m,k,t,x0,v0') \n",
    "assume(m>0);assume(k>0);assume(t>0) \n",
    "x = function('x')(t)"
   ]
  },
  {
   "cell_type": "code",
   "execution_count": 3,
   "metadata": {},
   "outputs": [
    {
     "data": {
      "text/html": [
       "<html><script type=\"math/tex; mode=display\">\\newcommand{\\Bold}[1]{\\mathbf{#1}}m \\frac{\\partial^{2}}{(\\partial t)^{2}}x\\left(t\\right) = -k x\\left(t\\right)</script></html>"
      ],
      "text/plain": [
       "m*diff(x(t), t, t) == -k*x(t)"
      ]
     },
     "execution_count": 3,
     "metadata": {},
     "output_type": "execute_result"
    }
   ],
   "source": [
    "de = m*diff(x,t,2)==-k*x;de"
   ]
  },
  {
   "cell_type": "code",
   "execution_count": 4,
   "metadata": {},
   "outputs": [
    {
     "data": {
      "text/html": [
       "<html><script type=\"math/tex; mode=display\">\\newcommand{\\Bold}[1]{\\mathbf{#1}}K_{2} \\cos\\left(\\frac{\\sqrt{k} t}{\\sqrt{m}}\\right) + K_{1} \\sin\\left(\\frac{\\sqrt{k} t}{\\sqrt{m}}\\right)</script></html>"
      ],
      "text/plain": [
       "_K2*cos(sqrt(k)*t/sqrt(m)) + _K1*sin(sqrt(k)*t/sqrt(m))"
      ]
     },
     "execution_count": 4,
     "metadata": {},
     "output_type": "execute_result"
    }
   ],
   "source": [
    "sol = desolve(de, x, ivar=t);sol "
   ]
  },
  {
   "cell_type": "code",
   "execution_count": 5,
   "metadata": {},
   "outputs": [
    {
     "data": {
      "text/html": [
       "<html><script type=\"math/tex; mode=display\">\\newcommand{\\Bold}[1]{\\mathbf{#1}}\\frac{K_{1} \\sqrt{k}}{\\sqrt{m}} = v_{0}</script></html>"
      ],
      "text/plain": [
       "_K1*sqrt(k)/sqrt(m) == v0"
      ]
     },
     "execution_count": 5,
     "metadata": {},
     "output_type": "execute_result"
    }
   ],
   "source": [
    "diff(sol, t)(t=0)==v0 "
   ]
  },
  {
   "cell_type": "code",
   "execution_count": 6,
   "metadata": {},
   "outputs": [
    {
     "data": {
      "text/html": [
       "<html><script type=\"math/tex; mode=display\">\\newcommand{\\Bold}[1]{\\mathbf{#1}}K_{2} = x_{0}</script></html>"
      ],
      "text/plain": [
       "_K2 == x0"
      ]
     },
     "execution_count": 6,
     "metadata": {},
     "output_type": "execute_result"
    }
   ],
   "source": [
    "sol.subs(t=0)==x0 "
   ]
  },
  {
   "cell_type": "code",
   "execution_count": 7,
   "metadata": {},
   "outputs": [],
   "source": [
    "sol = sol.subs(_)\n",
    "sol = desolve(de, x, ivar=t, ics=[0,x0,v0])"
   ]
  },
  {
   "cell_type": "code",
   "execution_count": 8,
   "metadata": {},
   "outputs": [
    {
     "data": {
      "image/png": "[encoded data removed]",
      "text/plain": [
       "Graphics object consisting of 2 graphics primitives"
      ]
     },
     "metadata": {},
     "output_type": "display_data"
    }
   ],
   "source": [
    "a=plot(sol(m=1,k=1,x0=0,v0=1), \n",
    "    (t,0,6.28),fill=True,fillcolor=\"lightsalmon\") \n",
    "show(a,figsize=2,frame=False,fontsize=6,axes=True)"
   ]
  },
  {
   "cell_type": "code",
   "execution_count": 9,
   "metadata": {},
   "outputs": [
    {
     "data": {
      "image/png": "[encoded data removed]",
      "text/plain": [
       "Graphics object consisting of 2 graphics primitives"
      ]
     },
     "metadata": {},
     "output_type": "display_data"
    }
   ],
   "source": [
    "b=plot(diff(sol,t)(m=1,k=1,x0=0,v0=1), (t,0,pi*4),\n",
    "       color=\"red\",fill=True,fillcolor=\"lightgrey\") \n",
    "show(b,figsize=2,frame=True,fontsize=5,axes=False)"
   ]
  },
  {
   "cell_type": "code",
   "execution_count": 10,
   "metadata": {},
   "outputs": [
    {
     "data": {
      "image/png": "[encoded data removed]",
      "text/plain": [
       "Graphics object consisting of 2 graphics primitives"
      ]
     },
     "metadata": {},
     "output_type": "display_data"
    }
   ],
   "source": [
    "c=parametric_plot(( sol(m=1,k=1,x0=0,v0=1),\n",
    "                 diff(sol,t)(m=1,k=1,x0=0,v0=1)),\n",
    "                  (t,0,6.28),color=\"green\",\n",
    "                  fill=True,fillcolor=\"cyan\") \n",
    "show(c,figsize=3,frame=True,fontsize=6,axes=False)"
   ]
  },
  {
   "cell_type": "code",
   "execution_count": null,
   "metadata": {},
   "outputs": [],
   "source": []
  },
  {
   "cell_type": "code",
   "execution_count": null,
   "metadata": {},
   "outputs": [],
   "source": []
  },
  {
   "cell_type": "code",
   "execution_count": null,
   "metadata": {},
   "outputs": [],
   "source": []
  }
 ],
 "metadata": {
  "kernelspec": {
   "display_name": "SageMath 8.1",
   "language": "",
   "name": "sagemath"
  },
  "language_info": {
   "codemirror_mode": {
    "name": "ipython",
    "version": 2
   },
   "file_extension": ".py",
   "mimetype": "text/x-python",
   "name": "python",
   "nbconvert_exporter": "python",
   "pygments_lexer": "ipython2",
   "version": "2.7.15rc1"
  }
 },
 "nbformat": 4,
 "nbformat_minor": 2
}
