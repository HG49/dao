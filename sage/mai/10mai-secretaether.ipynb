{
 "cells": [
  {
   "cell_type": "markdown",
   "metadata": {},
   "source": [
    "$\\rho_1=rho_0 n^2$\n",
    "\n",
    "$\\rho$ densité de l'éther selon fresnel.A mon avis la densité de l'éther est l'impédance du vide : $Z=\\sqrt \\frac{\\mu}{\\epsilon} = 376,76 \\Omega$ "
   ]
  },
  {
   "cell_type": "code",
   "execution_count": 1,
   "metadata": {},
   "outputs": [
    {
     "data": {
      "text/latex": [
       "$c = \\frac {1}{\\sqrt \\mu \\epsilon}$\n",
       "Convertis en $\\omega = \\frac {1}{\\sqrt LC}$"
      ],
      "text/plain": [
       "<IPython.core.display.Latex object>"
      ]
     },
     "metadata": {},
     "output_type": "display_data"
    }
   ],
   "source": [
    "%%latex\n",
    "$c = \\frac {1}{\\sqrt \\mu \\epsilon}$\n",
    "Convertis en $\\omega = \\frac {1}{\\sqrt LC}$"
   ]
  },
  {
   "cell_type": "markdown",
   "metadata": {},
   "source": [
    "La célérité $c$ est le résultat d'une équation sans contexte physique : Pourquoi 299792458 m/s ?\n",
    "\n",
    "Je pense plutôt que $c$ n'est pas une vitesse mais une pulsation angulaire $\\omega$ qui dépend de $\\pi$, multiple et sous multiple."
   ]
  },
  {
   "cell_type": "code",
   "execution_count": 2,
   "metadata": {},
   "outputs": [
    {
     "data": {
      "text/html": [
       "<html><script type=\"math/tex; mode=display\">\\newcommand{\\Bold}[1]{\\mathbf{#1}}1</script></html>"
      ],
      "text/plain": [
       "1"
      ]
     },
     "execution_count": 2,
     "metadata": {},
     "output_type": "execute_result"
    }
   ],
   "source": [
    "%display latex\n",
    "L=1;C=1;w=1/(sqrt(L*C));w"
   ]
  },
  {
   "cell_type": "code",
   "execution_count": 8,
   "metadata": {},
   "outputs": [
    {
     "data": {
      "text/html": [
       "<html><script type=\"math/tex; mode=display\">\\newcommand{\\Bold}[1]{\\mathbf{#1}}2997.07939152466</script></html>"
      ],
      "text/plain": [
       "2997.07939152466"
      ]
     },
     "execution_count": 8,
     "metadata": {},
     "output_type": "execute_result"
    }
   ],
   "source": [
    "f=w/(2*n(pi));1/f*477"
   ]
  },
  {
   "cell_type": "code",
   "execution_count": null,
   "metadata": {},
   "outputs": [],
   "source": []
  }
 ],
 "metadata": {
  "kernelspec": {
   "display_name": "SageMath 8.2",
   "language": "",
   "name": "sagemath"
  },
  "language_info": {
   "codemirror_mode": {
    "name": "ipython",
    "version": 2
   },
   "file_extension": ".py",
   "mimetype": "text/x-python",
   "name": "python",
   "nbconvert_exporter": "python",
   "pygments_lexer": "ipython2",
   "version": "2.7.14"
  }
 },
 "nbformat": 4,
 "nbformat_minor": 2
}
