{
 "cells": [
  {
   "cell_type": "markdown",
   "metadata": {},
   "source": [
    "An de grâce 2017, dimanche 3 décembre 5h45"
   ]
  },
  {
   "cell_type": "code",
   "execution_count": 1,
   "metadata": {},
   "outputs": [],
   "source": [
    "%display latex"
   ]
  },
  {
   "cell_type": "code",
   "execution_count": 2,
   "metadata": {},
   "outputs": [],
   "source": [
    "var('m,k,t,x0,v0,R,L,C ,r, c ,t,c_t,omega,a,phi') \n",
    "assume(m>0);assume(k>0) ;assume(t>0) \n",
    "assume(L>0); assume(C>0) ;assume(R>0)\n",
    "x = function('x')(t);x\n",
    "y = function('y')(t)"
   ]
  },
  {
   "cell_type": "code",
   "execution_count": 3,
   "metadata": {},
   "outputs": [
    {
     "data": {
      "text/html": [
       "<html><script type=\"math/tex; mode=display\">\\newcommand{\\Bold}[1]{\\mathbf{#1}}\\left(C \\frac{\\partial}{\\partial t}x\\left(t\\right) = -C x\\left(t\\right), L \\frac{\\partial^{2}}{(\\partial t)^{2}}x\\left(t\\right) = -L x\\left(t\\right)\\right)</script></html>"
      ],
      "text/plain": [
       "(C*diff(x(t), t) == -C*x(t), L*diff(x(t), t, t) == -L*x(t))"
      ]
     },
     "execution_count": 3,
     "metadata": {},
     "output_type": "execute_result"
    }
   ],
   "source": [
    "dx = L *diff(x,t,2) == -L*x;dy=C*diff(x,t) == -C*x;dy,dx"
   ]
  },
  {
   "cell_type": "code",
   "execution_count": 4,
   "metadata": {},
   "outputs": [
    {
     "data": {
      "text/html": [
       "<html><script type=\"math/tex; mode=display\">\\newcommand{\\Bold}[1]{\\mathbf{#1}}\\left(K_{2} \\cos\\left(t\\right) + K_{1} \\sin\\left(t\\right), C e^{\\left(-t\\right)}\\right)</script></html>"
      ],
      "text/plain": [
       "(_K2*cos(t) + _K1*sin(t), _C*e^(-t))"
      ]
     },
     "execution_count": 4,
     "metadata": {},
     "output_type": "execute_result"
    }
   ],
   "source": [
    "sol1 = desolve(dx, x, ivar=t);sol2 = desolve(dy, x,ivar=t);sol1,sol2"
   ]
  },
  {
   "cell_type": "code",
   "execution_count": 6,
   "metadata": {},
   "outputs": [
    {
     "data": {
      "text/html": [
       "<html><script type=\"math/tex; mode=display\">\\newcommand{\\Bold}[1]{\\mathbf{#1}}\\left(k_{1}, k_{2}\\right)</script></html>"
      ],
      "text/plain": [
       "(k1, k2)"
      ]
     },
     "execution_count": 6,
     "metadata": {},
     "output_type": "execute_result"
    }
   ],
   "source": [
    "var(\"k1,k2\")"
   ]
  },
  {
   "cell_type": "code",
   "execution_count": 7,
   "metadata": {},
   "outputs": [
    {
     "ename": "NameError",
     "evalue": "name 'sol' is not defined",
     "output_type": "error",
     "traceback": [
      "\u001b[0;31m\u001b[0m",
      "\u001b[0;31mNameError\u001b[0mTraceback (most recent call last)",
      "\u001b[0;32m<ipython-input-7-2d1c58e58a03>\u001b[0m in \u001b[0;36m<module>\u001b[0;34m()\u001b[0m\n\u001b[0;32m----> 1\u001b[0;31m \u001b[0msol\u001b[0m\u001b[0;34m.\u001b[0m\u001b[0msubs\u001b[0m\u001b[0;34m(\u001b[0m\u001b[0mt\u001b[0m\u001b[0;34m=\u001b[0m\u001b[0mInteger\u001b[0m\u001b[0;34m(\u001b[0m\u001b[0;36m0\u001b[0m\u001b[0;34m)\u001b[0m\u001b[0;34m)\u001b[0m\u001b[0;34m==\u001b[0m\u001b[0mx0\u001b[0m\u001b[0;34m\u001b[0m\u001b[0m\n\u001b[0m",
      "\u001b[0;31mNameError\u001b[0m: name 'sol' is not defined"
     ]
    }
   ],
   "source": [
    "sol.subs(t=0)==x0 "
   ]
  },
  {
   "cell_type": "code",
   "execution_count": 8,
   "metadata": {},
   "outputs": [
    {
     "ename": "NameError",
     "evalue": "name 'sol' is not defined",
     "output_type": "error",
     "traceback": [
      "\u001b[0;31m\u001b[0m",
      "\u001b[0;31mNameError\u001b[0mTraceback (most recent call last)",
      "\u001b[0;32m<ipython-input-8-cf377a9997b0>\u001b[0m in \u001b[0;36m<module>\u001b[0;34m()\u001b[0m\n\u001b[0;32m----> 1\u001b[0;31m \u001b[0msol\u001b[0m \u001b[0;34m=\u001b[0m \u001b[0msol\u001b[0m\u001b[0;34m.\u001b[0m\u001b[0msubs\u001b[0m\u001b[0;34m(\u001b[0m\u001b[0m_\u001b[0m\u001b[0;34m)\u001b[0m\u001b[0;34m;\u001b[0m \u001b[0msol\u001b[0m\u001b[0;34m\u001b[0m\u001b[0m\n\u001b[0m",
      "\u001b[0;31mNameError\u001b[0m: name 'sol' is not defined"
     ]
    }
   ],
   "source": [
    "sol = sol.subs(_); sol "
   ]
  },
  {
   "cell_type": "code",
   "execution_count": null,
   "metadata": {},
   "outputs": [],
   "source": [
    "diff(sol, t)(t=0)==v0;\n",
    "sol = desolve(de, x, ivar=t, ics=[0,x0,v0]) ;sol"
   ]
  },
  {
   "cell_type": "code",
   "execution_count": null,
   "metadata": {},
   "outputs": [],
   "source": [
    "a=plot(-sol(L=0.1,C=0.1,x0=0,v0=1), (t,-12,12),\n",
    "       fill=True,fillcolor=\"salmon\") \n",
    "\n",
    "show(a,figsize=3,frame=True,fontsize=8,axes=False)"
   ]
  },
  {
   "cell_type": "code",
   "execution_count": null,
   "metadata": {},
   "outputs": [],
   "source": [
    "r=1;c=0.000001;f=1;omega=2*pi*f\n",
    "pa= plot(sin(omega*t),(x,-10,10),\n",
    "        fontsize=12,rgbcolor='blue',axes_labels=['$t$','$V$'])\n",
    "pb = plot((-cos(omega*t)/2),(x,-1,1),rgbcolor=('green'))\n",
    "bl = text(\"$f = %.0f Hz \\,r = %.0f \\Omega \\, c = %.1f {\\mu}f$\"\n",
    "% (f,r,c*1e6),(.0025,1.2),rgbcolor=\"red\")\n",
    "title = text(\"$f = %.0f Hz \\,r = %.0f \\Omega \\, c = %.1f {\\mu}f$\"\n",
    "% (f,r,c*1e6),(.0025,1.2))\n",
    "show(pa+a+bl,frame=False,figsize=4,fontsize=8)"
   ]
  },
  {
   "cell_type": "code",
   "execution_count": null,
   "metadata": {},
   "outputs": [],
   "source": [
    "c=parametric_plot(( sol(L=1,C=1,x0=0,v0=1),\n",
    "                 diff(sol,t)(L=1,C=1,x0=0,v0=1)),\n",
    "                  (t,0,2*pi),color=\"green\",\n",
    "                  fill=True,fillcolor=\"cyan\") \n",
    "d=parametric_plot(( sol(L=1,C=1,x0=0,v0=1/1.1),\n",
    "                 diff(sol,t)(L=1,C=1,x0=0,v0=1)),\n",
    "                  (t,0,2*pi),color=\"red\",\n",
    "                  fill=True,fillcolor=\"red\") \n",
    "show(c+d,figsize=4,frame=True,fontsize=8,axes=False)"
   ]
  },
  {
   "cell_type": "code",
   "execution_count": null,
   "metadata": {},
   "outputs": [],
   "source": []
  },
  {
   "cell_type": "code",
   "execution_count": null,
   "metadata": {},
   "outputs": [],
   "source": []
  },
  {
   "cell_type": "code",
   "execution_count": null,
   "metadata": {},
   "outputs": [],
   "source": []
  }
 ],
 "metadata": {
  "kernelspec": {
   "display_name": "SageMath 8.1",
   "language": "",
   "name": "sagemath"
  },
  "language_info": {
   "codemirror_mode": {
    "name": "ipython",
    "version": 2
   },
   "file_extension": ".py",
   "mimetype": "text/x-python",
   "name": "python",
   "nbconvert_exporter": "python",
   "pygments_lexer": "ipython2",
   "version": "2.7.15rc1"
  }
 },
 "nbformat": 4,
 "nbformat_minor": 2
}
