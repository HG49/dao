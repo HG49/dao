{
 "cells": [
  {
   "cell_type": "markdown",
   "metadata": {},
   "source": [
    "L'espace n'est pas vide, il a une certaine impédance (résistance,force) qui freine le mouvement. Cette impédance vient du fait de sa forme ronde, qui courbe une droite en cercle. Son origine est la quadrature du cercle.\n",
    "Pourquoi $4 \\pi$ dans $\\mu$"
   ]
  },
  {
   "cell_type": "code",
   "execution_count": 1,
   "metadata": {},
   "outputs": [
    {
     "data": {
      "text/html": [
       "<html><script type=\"math/tex; mode=display\">\\newcommand{\\Bold}[1]{\\mathbf{#1}}1.00000000000000 \\times 10^{-7}</script></html>"
      ],
      "text/plain": [
       "1.00000000000000e-7"
      ]
     },
     "execution_count": 1,
     "metadata": {},
     "output_type": "execute_result"
    }
   ],
   "source": [
    "%display latex\n",
    "var (\"mu\")\n",
    "0.0000001\n",
    "(pi*4E-7)/(4*pi)"
   ]
  },
  {
   "cell_type": "code",
   "execution_count": 2,
   "metadata": {},
   "outputs": [
    {
     "data": {
      "text/html": [
       "<html><script type=\"math/tex; mode=display\">\\newcommand{\\Bold}[1]{\\mathbf{#1}}10000000</script></html>"
      ],
      "text/plain": [
       "10000000"
      ]
     },
     "execution_count": 2,
     "metadata": {},
     "output_type": "execute_result"
    }
   ],
   "source": [
    "int(1/0.0000001)"
   ]
  },
  {
   "cell_type": "code",
   "execution_count": 3,
   "metadata": {},
   "outputs": [
    {
     "data": {
      "text/html": [
       "<html><script type=\"math/tex; mode=display\">\\newcommand{\\Bold}[1]{\\mathbf{#1}}795774.715459477</script></html>"
      ],
      "text/plain": [
       "795774.715459477"
      ]
     },
     "execution_count": 3,
     "metadata": {},
     "output_type": "execute_result"
    }
   ],
   "source": [
    "1/n(pi*4E-7)"
   ]
  },
  {
   "cell_type": "code",
   "execution_count": 4,
   "metadata": {},
   "outputs": [
    {
     "data": {
      "text/html": [
       "<html><script type=\"math/tex; mode=display\">\\newcommand{\\Bold}[1]{\\mathbf{#1}}0.00112099824327959</script></html>"
      ],
      "text/plain": [
       "0.00112099824327959"
      ]
     },
     "execution_count": 4,
     "metadata": {},
     "output_type": "execute_result"
    }
   ],
   "source": [
    "q=sqrt(n(pi*4E-7));q"
   ]
  },
  {
   "cell_type": "code",
   "execution_count": 5,
   "metadata": {},
   "outputs": [
    {
     "data": {
      "text/html": [
       "<html><script type=\"math/tex; mode=display\">\\newcommand{\\Bold}[1]{\\mathbf{#1}}1.12837916709551</script></html>"
      ],
      "text/plain": [
       "1.12837916709551"
      ]
     },
     "execution_count": 5,
     "metadata": {},
     "output_type": "execute_result"
    }
   ],
   "source": [
    "ri=2/sqrt(n(pi));ri"
   ]
  },
  {
   "cell_type": "code",
   "execution_count": 6,
   "metadata": {},
   "outputs": [
    {
     "data": {
      "text/html": [
       "<html><script type=\"math/tex; mode=display\">\\newcommand{\\Bold}[1]{\\mathbf{#1}}0.00112837916709551</script></html>"
      ],
      "text/plain": [
       "0.00112837916709551"
      ]
     },
     "execution_count": 6,
     "metadata": {},
     "output_type": "execute_result"
    }
   ],
   "source": [
    "ri/1000"
   ]
  },
  {
   "cell_type": "markdown",
   "metadata": {},
   "source": [
    "La quadrature est le point de transformation du carré en cercle, le rayon est en résonnance à ce moment précis :\n",
    "\n",
    "$r=\\sqrt \\frac{4}{\\pi} = 1.12837916709551$\n",
    "\n",
    "$r=\\frac{2}{\\sqrt\\pi} = 1.12837916709551$"
   ]
  },
  {
   "cell_type": "code",
   "execution_count": 7,
   "metadata": {},
   "outputs": [
    {
     "data": {
      "text/html": [
       "<html><script type=\"math/tex; mode=display\">\\newcommand{\\Bold}[1]{\\mathbf{#1}}0.564189583547756</script></html>"
      ],
      "text/plain": [
       "0.564189583547756"
      ]
     },
     "execution_count": 7,
     "metadata": {},
     "output_type": "execute_result"
    }
   ],
   "source": [
    "1/sqrt(n(pi))"
   ]
  },
  {
   "cell_type": "code",
   "execution_count": 25,
   "metadata": {
    "scrolled": true
   },
   "outputs": [
    {
     "data": {
      "image/png": "[encoded data removed]",
      "text/plain": [
       "Graphics object consisting of 4 graphics primitives"
      ]
     },
     "metadata": {},
     "output_type": "display_data"
    }
   ],
   "source": [
    "r=sqrt(4.0/n(pi));f=x;a=plot(x,color=\"yellow\");\n",
    "b=plot(-x,color=\"yellow\")\n",
    "po = polygon(((-1,-1),(-1,1),(1,1),(1,-1)),\n",
    "color=\"blue\",edgecolor=\"red\",thickness=1,\n",
    "alpha=0.3);cr = circle((0,0),r,color=\"red\",\n",
    "fill=True,alpha=0.3,zorder=-5,thickness=1)\n",
    "co = circle((0,0),r/1.22,color=\"orange\",\n",
    "zorder=-5,thickness=1)\n",
    "show(cr+po+a+b,xmin=-1.2,xmax=1.2,ymin=-1.2,ymax=1.2,fontsize=6,\n",
    "gridlines=\"minor\",gridlinesstyle=dict(color=\"lightgreen\",\n",
    "linestyle=\"-\",alpha=0.2),axes=False,frame=True,figsize=5)"
   ]
  },
  {
   "cell_type": "markdown",
   "metadata": {},
   "source": [
    "les cinq tons et huit sortes de sons p248 Amiot\n",
    "\n",
    "81:koung 72 chang 64 kio 54 tche 48 yu\n"
   ]
  },
  {
   "cell_type": "code",
   "execution_count": null,
   "metadata": {},
   "outputs": [],
   "source": []
  }
 ],
 "metadata": {
  "kernelspec": {
   "display_name": "SageMath 8.2.rc4",
   "language": "",
   "name": "sagemath"
  },
  "language_info": {
   "codemirror_mode": {
    "name": "ipython",
    "version": 2
   },
   "file_extension": ".py",
   "mimetype": "text/x-python",
   "name": "python",
   "nbconvert_exporter": "python",
   "pygments_lexer": "ipython2",
   "version": "2.7.14"
  }
 },
 "nbformat": 4,
 "nbformat_minor": 2
}
